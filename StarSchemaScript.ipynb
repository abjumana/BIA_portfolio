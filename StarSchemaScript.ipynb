{
    "metadata": {
        "kernelspec": {
            "name": "SQL",
            "display_name": "SQL",
            "language": "sql"
        },
        "language_info": {
            "name": "sql",
            "version": ""
        }
    },
    "nbformat_minor": 2,
    "nbformat": 4,
    "cells": [
        {
            "cell_type": "markdown",
            "source": [
                "\n",
                "# <svg xmlns=\"http://www.w3.org/2000/svg\" height=\"24\" width=\"24\" viewBox=\"0 0 512 512\"> <path fill=\"#444444\" d=\"M234.5 5.7c13.9-5 29.1-5 43.1 0l192 68.6C495 83.4 512 107.5 512 134.6V377.4c0 27-17 51.2-42.5 60.3l-192 68.6c-13.9 5-29.1 5-43.1 0l-192-68.6C17 428.6 0 404.5 0 377.4V134.6c0-27 17-51.2 42.5-60.3l192-68.6zM256 66L82.3 128 256 190l173.7-62L256 66zm32 368.6l160-57.1v-188L288 246.6v188z\"/> </svg>  **Star Schema SQL Script**\n",
                "\n",
                "\n",
                "## This is an excerpt of the script I used to create a new database with 7 tables (5 dimension and 2 fact tables) for my Database Design class. The database is named <svg xmlns=\"http://www.w3.org/2000/svg\" height=\"20\" width=\"17.5\" viewBox=\"0 0 448 512\"><!--!Font Awesome Free 6.5.1 by @fontawesome - https://fontawesome.com License - https://fontawesome.com/license/free Copyright 2023 Fonticons, Inc.--><path fill=\"#4d22b3\" d=\"M448 80v48c0 44.2-100.3 80-224 80S0 172.2 0 128V80C0 35.8 100.3 0 224 0S448 35.8 448 80zM393.2 214.7c20.8-7.4 39.9-16.9 54.8-28.6V288c0 44.2-100.3 80-224 80S0 332.2 0 288V186.1c14.9 11.8 34 21.2 54.8 28.6C99.7 230.7 159.5 240 224 240s124.3-9.3 169.2-25.3zM0 346.1c14.9 11.8 34 21.2 54.8 28.6C99.7 390.7 159.5 400 224 400s124.3-9.3 169.2-25.3c20.8-7.4 39.9-16.9 54.8-28.6V432c0 44.2-100.3 80-224 80S0 476.2 0 432V346.1z\"/></svg> <font color='#4d22b3'>**TargetMart**</font>. This notebook shows scripts for 3 of the tables.\n",
                "\n",
                "  "
            ],
            "metadata": {
                "azdata_cell_guid": "9de6203a-07b3-4e46-b749-1b9f298ee850"
            },
            "attachments": {}
        },
        {
            "cell_type": "markdown",
            "source": [
                "## <u>Schemas</u>\r\n",
                "## <svg xmlns=\"http://www.w3.org/2000/svg\" height=\"10\" width=\"10\" viewBox=\"0 0 512 512\"> <circle cx=\"256\" cy=\"256\" r=\"256\" fill=\"#0061ff\"/> </svg>I created two separate schemas, dim and f, for my dimensions and facts, respectively."
            ],
            "metadata": {
                "azdata_cell_guid": "778b5215-ea41-4070-9735-faa6598108cf"
            },
            "attachments": {}
        },
        {
            "cell_type": "code",
            "source": [
                "USE TargetMart;\r\n",
                "GO\r\n",
                "\r\n",
                "\r\n",
                "IF NOT EXISTS (SELECT * FROM sys.schemas WHERE name = 'dim' ) \r\n",
                "BEGIN\r\n",
                "\tEXEC sp_executesql N'CREATE SCHEMA dim AUTHORIZATION dbo;'\r\n",
                "END\r\n",
                ";\r\n",
                "\r\n",
                "GO\r\n",
                "\r\n",
                "IF NOT EXISTS (SELECT * FROM sys.schemas WHERE name = 'f' ) \r\n",
                "BEGIN\r\n",
                "\tEXEC sp_executesql N'CREATE SCHEMA f AUTHORIZATION dbo;'\r\n",
                "END\r\n",
                ";\r\n",
                "\r\n",
                "GO"
            ],
            "metadata": {
                "azdata_cell_guid": "25b3db5b-8ee3-4cc9-89d3-bff13d9f9e86",
                "language": "sql"
            },
            "outputs": [],
            "execution_count": null
        },
        {
            "cell_type": "markdown",
            "source": [
                "## <u>Customers Dimension Table</u>\r\n",
                "## <svg xmlns=\"http://www.w3.org/2000/svg\" height=\"10\" width=\"10\" viewBox=\"0 0 512 512\"><!--!Font Awesome Free 6.5.1 by @fontawesome - https://fontawesome.com License - https://fontawesome.com/license/free Copyright 2023 Fonticons, Inc.--><path fill=\"#0061ff\" d=\"M256 512A256 256 0 1 0 256 0a256 256 0 1 0 0 512z\"/></svg> This table has a surrogate key (pkCustomer) and a natural key (CustomerID). The load date is also included to keep track of when new records are added to the table. </span>"
            ],
            "metadata": {
                "azdata_cell_guid": "ebfd0a0d-8f11-4481-bd3c-362c653cd084"
            },
            "attachments": {}
        },
        {
            "cell_type": "code",
            "source": [
                "IF NOT EXISTS (SELECT * FROM INFORMATION_SCHEMA.TABLES WHERE TABLE_SCHEMA = 'dim' AND TABLE_NAME = 'Customers')\r\n",
                "\r\n",
                "BEGIN\r\n",
                "\tCREATE TABLE dim.Customers(\r\n",
                "        pkCustomer int IDENTITY(1000,1) NOT NULL,\r\n",
                "        CustomerID nvarchar(5) NOT NULL,\r\n",
                "        Customer nvarchar(40) NOT NULL,\r\n",
                "        City nvarchar(15) NULL,\r\n",
                "        Country nvarchar(15) NULL,\r\n",
                "        LoadDate DATE NOT NULL,\r\n",
                "    );\r\n",
                "\r\n",
                "\tALTER TABLE dim.Customers\r\n",
                "\tADD CONSTRAINT PK_Customers_LUP PRIMARY KEY(pkCustomer);\r\n",
                "\r\n",
                "\tALTER TABLE dim.Customers\r\n",
                "    ADD CONSTRAINT UC_Customers_ID UNIQUE (CustomerID);\r\n",
                "\r\n",
                "END\r\n",
                ";\r\n",
                "GO\r\n",
                ""
            ],
            "metadata": {
                "azdata_cell_guid": "88347f7c-1e61-4c36-bd55-b8a6224a5509",
                "language": "sql",
                "tags": []
            },
            "outputs": [],
            "execution_count": null
        },
        {
            "cell_type": "markdown",
            "source": [
                "## <u>Calendar Dimension Table</u>\r\n",
                "## <svg xmlns=\"http://www.w3.org/2000/svg\" height=\"10\" width=\"10\" viewBox=\"0 0 512 512\"><!--!Font Awesome Free 6.5.1 by @fontawesome - https://fontawesome.com License - https://fontawesome.com/license/free Copyright 2023 Fonticons, Inc.--><path fill=\"#0061ff\" d=\"M256 512A256 256 0 1 0 256 0a256 256 0 1 0 0 512z\"/></svg> The primary key will be in the format of YYYYMMDD. </span>"
            ],
            "metadata": {
                "language": "sql",
                "azdata_cell_guid": "26447ae8-18d9-451b-8672-3c393180b100"
            },
            "attachments": {}
        },
        {
            "cell_type": "code",
            "source": [
                "\r\n",
                "IF NOT EXISTS (SELECT * FROM INFORMATION_SCHEMA.TABLES WHERE TABLE_SCHEMA = 'dim' AND TABLE_NAME = 'Calendar')\r\n",
                "\r\n",
                "BEGIN\r\n",
                "    CREATE TABLE dim.Calendar(\r\n",
                "        pkCalendar INT NOT NULL,\r\n",
                "        DateValue DATE NOT NULL,\r\n",
                "        Year INT NOT NULL,\r\n",
                "        Quarter INT NOT NULL,\r\n",
                "        Month INT NOT NULL,\r\n",
                "        MonthName VARCHAR(10) NOT NULL,\r\n",
                "        MonthShort VARCHAR(3) NOT NULL,\r\n",
                "        WeekofYear INT NOT NULL,\r\n",
                "        DayOfMonth INT NOT NULL,\r\n",
                "        DayName VARCHAR(10) NOT NULL,\r\n",
                "        DayShort VARCHAR(3) NOT NULL,\r\n",
                "        Weekday VARCHAR(3) NOT NULL\r\n",
                "    );\r\n",
                "\r\n",
                "\tALTER TABLE dim.Calendar\r\n",
                "\tADD CONSTRAINT PK_Calendar PRIMARY KEY(pkCalendar);\r\n",
                "\r\n",
                "\tALTER TABLE dim.Calendar\r\n",
                "    ADD CONSTRAINT UC_Calendar UNIQUE (DateValue);\r\n",
                "\r\n",
                "END\r\n",
                ";\r\n",
                "GO"
            ],
            "metadata": {
                "language": "sql",
                "azdata_cell_guid": "a08c1b85-55b1-47b0-a2b6-7003e37d33d5"
            },
            "outputs": [],
            "execution_count": null
        },
        {
            "cell_type": "markdown",
            "source": [
                "## <u>Order Performance Fact Table</u>\r\n",
                "## <svg xmlns=\"http://www.w3.org/2000/svg\" height=\"10\" width=\"10\" viewBox=\"0 0 512 512\"><!--!Font Awesome Free 6.5.1 by @fontawesome - https://fontawesome.com License - https://fontawesome.com/license/free Copyright 2023 Fonticons, Inc.--><path fill=\"#0061ff\" d=\"M256 512A256 256 0 1 0 256 0a256 256 0 1 0 0 512z\"/></svg> There is no primary key and there are 4 foreign keys. The relationships are established to 4 of the dimension tables.</span>"
            ],
            "metadata": {
                "language": "sql",
                "azdata_cell_guid": "3a92057b-8ba5-4cfe-bca1-624f1e841bee"
            },
            "attachments": {}
        },
        {
            "cell_type": "code",
            "source": [
                "IF NOT EXISTS (SELECT * FROM INFORMATION_SCHEMA.TABLES WHERE TABLE_SCHEMA = 'f' AND TABLE_NAME = 'OrderPerf')\r\n",
                "\r\n",
                "BEGIN\r\n",
                "    CREATE TABLE f.OrderPerf(\r\n",
                "        OrderID int NOT NULL,\r\n",
                "        fkCalendar int NOT NULL,\r\n",
                "        fkCustomer int NOT NULL,\r\n",
                "        fkEmployee int NULL,\r\n",
                "        fkShipper int NULL,\r\n",
                "        Freight money NOT NULL,\r\n",
                "        DaysToShip int NULL,\r\n",
                "        DaysTilRequired int NOT NULL,\r\n",
                "        OrderCount bit NOT NULL\r\n",
                "    );\r\n",
                "\r\n",
                "    ALTER TABLE f.OrderPerf\r\n",
                "    ADD CONSTRAINT PK_ORD PRIMARY KEY(OrderID);\r\n",
                "\r\n",
                "    ALTER TABLE f.OrderPerf\r\n",
                "    ADD CONSTRAINT FK_ORDtoCAL\r\n",
                "        FOREIGN KEY (fkCalendar)\r\n",
                "        REFERENCES dim.Calendar(pkCalendar);\r\n",
                "\r\n",
                "    ALTER TABLE f.OrderPerf\r\n",
                "    ADD CONSTRAINT FK_ORDtoCUST\r\n",
                "        FOREIGN KEY (fkCustomer)\r\n",
                "        REFERENCES dim.Customers(pkCustomer);\r\n",
                "\r\n",
                "    ALTER TABLE f.OrderPerf\r\n",
                "    ADD CONSTRAINT FK_ORDtoEMP\r\n",
                "        FOREIGN KEY (fkEmployee)\r\n",
                "        REFERENCES dim.Employees(pkEmployeeID);\r\n",
                "\r\n",
                "    ALTER TABLE f.OrderPerf\r\n",
                "    ADD CONSTRAINT FK_ORDtoSHIP\r\n",
                "        FOREIGN KEY (fkShipper)\r\n",
                "        REFERENCES dim.Shipper(pkShipperID);\r\n",
                "\r\n",
                "END\r\n",
                ";\r\n",
                "GO"
            ],
            "metadata": {
                "language": "sql",
                "azdata_cell_guid": "ca36c32c-8580-4235-9731-b2dd89c4ddfa",
                "tags": []
            },
            "outputs": [],
            "execution_count": null
        },
        {
            "cell_type": "markdown",
            "source": [
                "## <svg xmlns=\"http://www.w3.org/2000/svg\" height=\"20\" width=\"22.5\" viewBox=\"0 0 576 512\"><!--!Font Awesome Free 6.5.1 by @fontawesome - https://fontawesome.com License - https://fontawesome.com/license/free Copyright 2023 Fonticons, Inc.--><path fill=\"#444444\" d=\"M0 80C0 53.5 21.5 32 48 32h96c26.5 0 48 21.5 48 48V96H384V80c0-26.5 21.5-48 48-48h96c26.5 0 48 21.5 48 48v96c0 26.5-21.5 48-48 48H432c-26.5 0-48-21.5-48-48V160H192v16c0 1.7-.1 3.4-.3 5L272 288h96c26.5 0 48 21.5 48 48v96c0 26.5-21.5 48-48 48H272c-26.5 0-48-21.5-48-48V336c0-1.7 .1-3.4 .3-5L144 224H48c-26.5 0-48-21.5-48-48V80z\"/></svg> _The entity relationship diagram for this database is uploaded in my repository._"
            ],
            "metadata": {
                "azdata_cell_guid": "72793bcb-acaa-4b73-ad7b-1d92f2fde2a2"
            },
            "attachments": {}
        }
    ]
}
